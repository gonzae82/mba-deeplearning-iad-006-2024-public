{
 "cells": [
  {
   "cell_type": "code",
   "execution_count": 1,
   "metadata": {},
   "outputs": [],
   "source": [
    "# Carregar bibliotecas\n",
    "import numpy as np\n",
    "from sklearn import datasets\n",
    "import matplotlib.pyplot as plt\n",
    "import requests\n",
    "import json\n",
    "\n",
    "# Carregar o dataset MNIST\n",
    "digits = datasets.load_digits(n_class=10)\n",
    "\n",
    "images = digits.images\n",
    "targets = digits.target"
   ]
  },
  {
   "cell_type": "code",
   "execution_count": 2,
   "metadata": {},
   "outputs": [
    {
     "data": {
      "image/png": "[encoded data removed]",
      "text/plain": [
       "<Figure size 100x100 with 1 Axes>"
      ]
     },
     "metadata": {},
     "output_type": "display_data"
    }
   ],
   "source": [
    "# Selecione a imagem que deseja inferir\n",
    "index = 8\n",
    "\n",
    "# Mostrar a imagem de um número\n",
    "plt.figure(figsize=(1, 1)) \n",
    "plt.imshow(images[index], cmap='binary', interpolation='nearest')\n",
    "plt.title('Número: {}'.format(targets[index]))\n",
    "plt.show()\n",
    "\n",
    "# Converter a imagem em uma lista\n",
    "input_data =  images[index].reshape(-1).tolist()"
   ]
  },
  {
   "cell_type": "code",
   "execution_count": 3,
   "metadata": {},
   "outputs": [
    {
     "name": "stdout",
     "output_type": "stream",
     "text": [
      "Previsão do modelo: [8]\n"
     ]
    }
   ],
   "source": [
    "# Definir a URL do endpoint\n",
    "url = \"http://localhost:8000/predict\"\n",
    "\n",
    "# Converter os dados para o formato JSON\n",
    "input_json = json.dumps({\"input\": input_data})\n",
    "\n",
    "# Enviar a solicitação POST para o servidor FastAPI\n",
    "response = requests.post(url, data=input_json, headers={\"Content-Type\": \"application/json\"})\n",
    "\n",
    "# Verificar o status da resposta\n",
    "if response.status_code == 200:\n",
    "    prediction = response.json().get(\"prediction\")\n",
    "    print(f\"Previsão do modelo: {prediction}\")\n",
    "else:\n",
    "    print(f\"Erro: {response.status_code}\")\n",
    "    print(f\"Detalhes: {response.text}\")\n"
   ]
  }
 ],
 "metadata": {
  "kernelspec": {
   "display_name": "Python 3",
   "language": "python",
   "name": "python3"
  },
  "language_info": {
   "codemirror_mode": {
    "name": "ipython",
    "version": 3
   },
   "file_extension": ".py",
   "mimetype": "text/x-python",
   "name": "python",
   "nbconvert_exporter": "python",
   "pygments_lexer": "ipython3",
   "version": "3.10.13"
  }
 },
 "nbformat": 4,
 "nbformat_minor": 2
}
