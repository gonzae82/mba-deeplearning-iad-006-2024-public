{
 "cells": [
  {
   "cell_type": "code",
   "execution_count": 1,
   "metadata": {},
   "outputs": [],
   "source": [
    "import numpy as np\n",
    "\n",
    "import xgboost as xgb\n",
    "from xgboost import XGBClassifier\n",
    "\n",
    "from sklearn.metrics import accuracy_score\n",
    "from sklearn.model_selection import train_test_split    \n",
    "from sklearn.metrics import confusion_matrix\n",
    "from sklearn import datasets\n",
    "\n",
    "from sklearn.model_selection import GridSearchCV\n",
    "\n",
    "import matplotlib.pyplot as plt\n",
    "\n",
    "import seaborn as sns\n",
    "\n",
    "from sklearn.ensemble import RandomForestClassifier\n"
   ]
  },
  {
   "cell_type": "code",
   "execution_count": 2,
   "metadata": {},
   "outputs": [],
   "source": [
    "# Carregar o dataset MNIST\n",
    "digits = datasets.load_digits(n_class=10)\n",
    "\n",
    "images=digits.images\n",
    "targets=digits.target\n",
    "images=images.reshape(len(images),8*8)\n",
    "\n",
    "X = digits.data\n",
    "y = digits.target\n",
    "\n",
    "# Dividir o dataset em treinamento e teste\n",
    "X_train, X_test, y_train, y_test = train_test_split(images, targets, test_size=0.2)"
   ]
  },
  {
   "cell_type": "code",
   "execution_count": 3,
   "metadata": {},
   "outputs": [
    {
     "name": "stdout",
     "output_type": "stream",
     "text": [
      "Acurácia: 97.22%\n",
      "Matriz de Confusão\n",
      "\n",
      "[[39  0  0  0  1  0  0  0  0  0]\n",
      " [ 0 41  0  0  0  0  0  0  0  0]\n",
      " [ 1  0 36  0  0  0  0  0  0  0]\n",
      " [ 0  0  0 34  0  0  0  0  1  0]\n",
      " [ 0  0  0  0 41  0  0  0  0  1]\n",
      " [ 0  0  0  0  0 32  1  0  0  1]\n",
      " [ 0  0  0  0  0  0 40  0  0  0]\n",
      " [ 0  0  0  0  0  0  0 30  0  0]\n",
      " [ 0  0  3  0  0  0  0  0 23  0]\n",
      " [ 0  0  0  1  0  0  0  0  0 34]]\n"
     ]
    }
   ],
   "source": [
    "modelo = RandomForestClassifier(n_estimators=100, max_depth=10, random_state=42, criterion='gini')\n",
    "modelo.fit(X_train, y_train)\n",
    "\n",
    "y_pred=modelo.predict(X_test)\n",
    "\n",
    "acuracia = accuracy_score(y_test, y_pred)\n",
    "print(\"Acurácia: %.2f%%\" % (acuracia * 100.0))\n",
    "\n",
    "confusion = confusion_matrix(y_test, y_pred)\n",
    "print('Matriz de Confusão\\n')\n",
    "print(confusion)"
   ]
  }
 ],
 "metadata": {
  "kernelspec": {
   "display_name": "Python 3",
   "language": "python",
   "name": "python3"
  },
  "language_info": {
   "codemirror_mode": {
    "name": "ipython",
    "version": 3
   },
   "file_extension": ".py",
   "mimetype": "text/x-python",
   "name": "python",
   "nbconvert_exporter": "python",
   "pygments_lexer": "ipython3",
   "version": "3.10.13"
  }
 },
 "nbformat": 4,
 "nbformat_minor": 2
}
