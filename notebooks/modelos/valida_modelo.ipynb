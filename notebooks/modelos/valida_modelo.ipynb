{
 "cells": [
  {
   "cell_type": "code",
   "execution_count": 15,
   "id": "c7ff25f3",
   "metadata": {},
   "outputs": [
    {
     "name": "stdout",
     "output_type": "stream",
     "text": [
      "Previsão do modelo: 5\n"
     ]
    }
   ],
   "source": [
    "# Importar bibliotecas necessárias\n",
    "import numpy as np\n",
    "from sklearn import datasets\n",
    "import pickle\n",
    "import matplotlib.pyplot as plt\n",
    "\n",
    "# Carregar o dataset MNIST\n",
    "digits = datasets.load_digits(n_class=10)\n",
    "images = digits.images\n",
    "targets = digits.target\n",
    "\n",
    "# Índice a ser utilizado\n",
    "index = 5\n",
    "\n",
    "# Mostrar a imagem de um número\n",
    "#plt.imshow(images[index], cmap='binary', interpolation='nearest')\n",
    "#plt.title('Número: {}'.format(targets[index]))\n",
    "#plt.show()\n",
    "\n",
    "# Preparar os dados de entrada para a predição\n",
    "input_data = images[index].reshape(1, 64)  # Ajustar o formato conforme necessário\n",
    "\n",
    "\n",
    "# Carregar o modelo treinado\n",
    "with open('modelo_clf.sav', 'rb') as model_file:\n",
    "    model = pickle.load(model_file)\n",
    "\n",
    "#print((model))\n",
    "\n",
    "# Fazer a predição\n",
    "prediction = model.predict(input_data)\n",
    "print(f'Previsão do modelo: {prediction[0]}')\n"
   ]
  }
 ],
 "metadata": {
  "kernelspec": {
   "display_name": "Python 3",
   "language": "python",
   "name": "python3"
  },
  "language_info": {
   "codemirror_mode": {
    "name": "ipython",
    "version": 3
   },
   "file_extension": ".py",
   "mimetype": "text/x-python",
   "name": "python",
   "nbconvert_exporter": "python",
   "pygments_lexer": "ipython3",
   "version": "3.10.13"
  }
 },
 "nbformat": 4,
 "nbformat_minor": 5
}
