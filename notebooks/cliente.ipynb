{
 "cells": [
  {
   "cell_type": "code",
   "execution_count": 3,
   "metadata": {},
   "outputs": [
    {
     "name": "stdout",
     "output_type": "stream",
     "text": [
      "Erro: 500\n",
      "Detalhes: Internal Server Error\n"
     ]
    }
   ],
   "source": [
    "# Importar bibliotecas necessárias\n",
    "import requests\n",
    "import json\n",
    "\n",
    "# Definir a URL do endpoint\n",
    "url = \"http://localhost:8000/predict\"\n",
    "\n",
    "# Criar os dados de entrada para o modelo\n",
    "# Suponha que o modelo aceite 4 características de entrada (modifique conforme necessário)\n",
    "input_data = {\n",
    "    \"features\": [5.1, 3.5, 1.4, 0.2]\n",
    "}\n",
    "\n",
    "# Converter os dados para o formato JSON\n",
    "input_json = json.dumps(input_data)\n",
    "\n",
    "# Enviar a solicitação POST para o servidor FastAPI\n",
    "response = requests.post(url, data=input_json, headers={\"Content-Type\": \"application/json\"})\n",
    "\n",
    "# Verificar o status da resposta\n",
    "if response.status_code == 200:\n",
    "    # Extrair a previsão da resposta JSON\n",
    "    prediction = response.json().get(\"prediction\")\n",
    "    print(f\"Previsão do modelo: {prediction}\")\n",
    "else:\n",
    "    print(f\"Erro: {response.status_code}\")\n",
    "    print(f\"Detalhes: {response.text}\")\n"
   ]
  }
 ],
 "metadata": {
  "kernelspec": {
   "display_name": "Python 3",
   "language": "python",
   "name": "python3"
  },
  "language_info": {
   "codemirror_mode": {
    "name": "ipython",
    "version": 3
   },
   "file_extension": ".py",
   "mimetype": "text/x-python",
   "name": "python",
   "nbconvert_exporter": "python",
   "pygments_lexer": "ipython3",
   "version": "3.10.13"
  }
 },
 "nbformat": 4,
 "nbformat_minor": 2
}
