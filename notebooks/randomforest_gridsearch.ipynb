{
 "cells": [
  {
   "cell_type": "code",
   "execution_count": 1,
   "metadata": {},
   "outputs": [],
   "source": [
    "import numpy as np\n",
    "\n",
    "import xgboost as xgb\n",
    "from xgboost import XGBClassifier\n",
    "\n",
    "from sklearn.metrics import accuracy_score\n",
    "from sklearn.model_selection import train_test_split    \n",
    "from sklearn.metrics import confusion_matrix\n",
    "from sklearn import datasets\n",
    "\n",
    "from sklearn.model_selection import GridSearchCV\n",
    "\n",
    "import matplotlib.pyplot as plt\n",
    "\n",
    "import seaborn as sns\n",
    "\n",
    "from sklearn.ensemble import RandomForestClassifier\n"
   ]
  },
  {
   "cell_type": "code",
   "execution_count": 2,
   "metadata": {},
   "outputs": [],
   "source": [
    "# Carregar o dataset MNIST\n",
    "digits = datasets.load_digits(n_class=10)\n",
    "\n",
    "images=digits.images\n",
    "targets=digits.target\n",
    "images=images.reshape(len(images),8*8)\n",
    "\n",
    "X = digits.data\n",
    "y = digits.target\n",
    "\n",
    "# Dividir o dataset em treinamento e teste\n",
    "X_train, X_test, y_train, y_test = train_test_split(images, targets, test_size=0.2)"
   ]
  },
  {
   "cell_type": "code",
   "execution_count": null,
   "metadata": {},
   "outputs": [],
   "source": [
    "# Definir o grid de parâmetros para busca\n",
    "param_grid = {\n",
    "    'n_estimators': [100, 200, 300],        # Número de árvores na floresta\n",
    "    'max_depth': [None, 10, 20, 30],        # Profundidade máxima das árvores\n",
    "    'min_samples_split': [2, 5, 10],        # Número mínimo de amostras necessárias para dividir um nó\n",
    "    'min_samples_leaf': [1, 2, 4],          # Número mínimo de amostras necessárias para estar em uma folha\n",
    "    'max_features': ['auto', 'sqrt', 'log2'],  # Número de recursos considerados para encontrar a melhor divisão\n",
    "    'criterion': ['gini', 'entropy']        # Função para medir a qualidade de uma divisão\n",
    "}\n",
    "\n",
    "# Configurar o classificador\n",
    "rf = RandomForestClassifier(random_state=42)\n",
    "\n",
    "# Configurar o GridSearchCV\n",
    "grid_search = GridSearchCV(estimator=rf, param_grid=param_grid, cv=5, n_jobs=-1, verbose=0)\n",
    "\n",
    "# Treinar o modelo usando GridSearchCV\n",
    "grid_search.fit(X_train, y_train)\n",
    "\n",
    "# Prever as classes para o conjunto de teste com o melhor modelo encontrado\n",
    "y_pred = grid_search.best_estimator_.predict(X_test)"
   ]
  },
  {
   "cell_type": "code",
   "execution_count": 4,
   "metadata": {},
   "outputs": [
    {
     "name": "stdout",
     "output_type": "stream",
     "text": [
      "Melhores parâmetros encontrados: {'criterion': 'entropy', 'max_depth': None, 'max_features': 'sqrt', 'min_samples_leaf': 1, 'min_samples_split': 2, 'n_estimators': 300}\n",
      "Precisão com os melhores parâmetros: 0.9763380758807589\n",
      "Acurácia: 98.33%\n",
      "Matriz de Confusão\n",
      "\n",
      "[[36  0  0  0  0  0  0  0  0  0]\n",
      " [ 0 43  0  0  0  0  0  0  0  0]\n",
      " [ 0  0 31  0  0  0  0  0  0  0]\n",
      " [ 1  0  0 28  0  0  0  0  0  0]\n",
      " [ 0  0  0  0 43  0  0  0  1  0]\n",
      " [ 0  0  0  0  1 32  0  0  0  0]\n",
      " [ 0  0  0  0  0  0 29  0  0  0]\n",
      " [ 0  0  0  0  0  0  0 39  0  1]\n",
      " [ 0  0  0  0  0  1  0  0 35  0]\n",
      " [ 0  0  0  1  0  0  0  0  0 38]]\n"
     ]
    }
   ],
   "source": [
    "# Melhor combinação de parâmetros\n",
    "print(\"Melhores parâmetros encontrados:\", grid_search.best_params_)\n",
    "\n",
    "# Imprimir a precisão do RandomForestClassifier com os melhores parâmetros\n",
    "print(\"Precisão com os melhores parâmetros:\", grid_search.best_score_)\n",
    "\n",
    "acuracia = accuracy_score(y_test, y_pred)\n",
    "print(\"Acurácia: %.2f%%\" % (acuracia * 100.0))\n",
    "\n",
    "confusion = confusion_matrix(y_test, y_pred)\n",
    "print('Matriz de Confusão\\n')\n",
    "print(confusion)"
   ]
  }
 ],
 "metadata": {
  "kernelspec": {
   "display_name": "Python 3",
   "language": "python",
   "name": "python3"
  },
  "language_info": {
   "codemirror_mode": {
    "name": "ipython",
    "version": 3
   },
   "file_extension": ".py",
   "mimetype": "text/x-python",
   "name": "python",
   "nbconvert_exporter": "python",
   "pygments_lexer": "ipython3",
   "version": "3.10.13"
  }
 },
 "nbformat": 4,
 "nbformat_minor": 2
}
